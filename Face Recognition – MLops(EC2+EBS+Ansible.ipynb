{
 "cells": [
  {
   "cell_type": "markdown",
   "metadata": {},
   "source": [
    "## Face Recognition – Launch a webserver when a face is recongnized and send alert "
   ]
  },
  {
   "cell_type": "markdown",
   "metadata": {},
   "source": [
    "\n",
    "### Step 1 - Create Training Data"
   ]
  },
  {
   "cell_type": "code",
   "execution_count": null,
   "metadata": {},
   "outputs": [],
   "source": [
    "import cv2\n",
    "import numpy as np\n",
    "\n",
    "# Load HAAR face classifier\n",
    "face_classifier = cv2.CascadeClassifier('haarcascade_frontalface_default.xml')\n",
    "\n",
    "# Load functions\n",
    "def face_extractor(img):\n",
    "    # Function detects faces and returns the cropped face\n",
    "    # If no face detected, it returns the input image\n",
    "    \n",
    "    gray = cv2.cvtColor(img,cv2.COLOR_BGR2GRAY)\n",
    "    faces = face_classifier.detectMultiScale(gray, 1.3, 5)\n",
    "    \n",
    "    if faces is ():\n",
    "        return None\n",
    "    \n",
    "    # Crop all faces found\n",
    "    for (x,y,w,h) in faces:\n",
    "        cropped_face = img[y:y+h, x:x+w]\n",
    "\n",
    "    return cropped_face\n",
    "\n",
    "# Initialize Webcam\n",
    "cap = cv2.VideoCapture(1)\n",
    "count = 0\n",
    "\n",
    "# Collect 100 samples of your face from webcam input\n",
    "while True:\n",
    "\n",
    "    ret, frame = cap.read()\n",
    "    if face_extractor(frame) is not None:\n",
    "        count += 1\n",
    "        face = cv2.resize(face_extractor(frame), (200, 200))\n",
    "        face = cv2.cvtColor(face, cv2.COLOR_BGR2GRAY)\n",
    "\n",
    "        # Save file in specified directory with unique name\n",
    "        file_name_path = './faces/user/' + str(count) + '.jpg'\n",
    "        cv2.imwrite(file_name_path, face)\n",
    "\n",
    "        # Put count on images and display live count\n",
    "        cv2.putText(face, str(count), (50, 50), cv2.FONT_HERSHEY_COMPLEX, 1, (0,255,0), 2)\n",
    "        cv2.imshow('Face Cropper', face)\n",
    "        \n",
    "    else:\n",
    "        print(\"Face not found\")\n",
    "        pass\n",
    "\n",
    "    if cv2.waitKey(1) == 13 or count == 100: #13 is the Enter Key\n",
    "        break\n",
    "        \n",
    "cap.release()\n",
    "cv2.destroyAllWindows()      \n",
    "print(\"Collecting Samples Complete\")"
   ]
  },
  {
   "cell_type": "markdown",
   "metadata": {},
   "source": [
    "### Step 2 - Training the Model with precreated dataset"
   ]
  },
  {
   "cell_type": "code",
   "execution_count": 1,
   "metadata": {},
   "outputs": [],
   "source": [
    "import cv2\n",
    "import numpy as np\n",
    "from os import listdir\n",
    "from os.path import isfile, join\n",
    "\n",
    "#Creating a function that trains a model to recognise certain faces provided the dataset \n",
    "def trainmodel(name , path) : \n",
    "    data_path = path\n",
    "    onlyfiles = [f for f in listdir(data_path) if isfile(join(data_path, f))]\n",
    "\n",
    "# Create arrays for training data and labels\n",
    "    Training_Data, Labels = [], []\n",
    "\n",
    "# Open training images in our datapath\n",
    "# Create a numpy array for training data\n",
    "    for i, files in enumerate(onlyfiles):\n",
    "        image_path = data_path + onlyfiles[i]\n",
    "        images = cv2.imread(image_path, cv2.IMREAD_GRAYSCALE)\n",
    "        Training_Data.append(np.asarray(images, dtype=np.uint8))\n",
    "        Labels.append(i)\n",
    "\n",
    "# Create a numpy array for both training data and labels\n",
    "    Labels = np.asarray(Labels, dtype=np.int32)\n",
    "\n",
    "# Initialize facial recognizer\n",
    "# model = cv2.face.createLBPHFaceRecognizer()\n",
    "# NOTE: For OpenCV 3.0 use cv2.face.createLBPHFaceRecognizer()\n",
    "# pip install opencv-contrib-python\n",
    "# model = cv2.createLBPHFaceRecognizer()\n",
    "\n",
    "    model  = cv2.face_LBPHFaceRecognizer.create()\n",
    "# Let's train our model \n",
    "    model.train(np.asarray(Training_Data), np.asarray(Labels))\n",
    "    print(str(name) + \"'s\" + \" Model trained sucessefully\")\n",
    "    return model\n"
   ]
  },
  {
   "cell_type": "code",
   "execution_count": 2,
   "metadata": {},
   "outputs": [
    {
     "name": "stdout",
     "output_type": "stream",
     "text": [
      "Yashwanth's Model trained sucessefully\n"
     ]
    }
   ],
   "source": [
    "Yashwanth_Model = trainmodel(\"Yashwanth\" , './faces/yash/')  #Passing the dataset-1 to the trainmodel function "
   ]
  },
  {
   "cell_type": "code",
   "execution_count": 3,
   "metadata": {},
   "outputs": [
    {
     "name": "stdout",
     "output_type": "stream",
     "text": [
      "Amma's Model trained sucessefully\n"
     ]
    }
   ],
   "source": [
    "Amma_Model = trainmodel(\"Amma\" , './faces/Amma/')   #Passing the dataset-2 to the trainmodel function "
   ]
  },
  {
   "cell_type": "code",
   "execution_count": 4,
   "metadata": {},
   "outputs": [],
   "source": [
    "#Function that send's mail to a person along with the image when a particular face is detected\n",
    "\n",
    "def mail(sender , receiver , passwd , img) :\n",
    "    import smtplib\n",
    "    import imghdr\n",
    "    from email.message import EmailMessage\n",
    "\n",
    "    Sender_Email = sender\n",
    "    Reciever_Email = receiver\n",
    "    Password = passwd\n",
    "\n",
    "    newMessage = EmailMessage()                         \n",
    "    newMessage['Subject'] = \"There's an Intruder\" \n",
    "    newMessage['From'] = Sender_Email                   \n",
    "    newMessage['To'] = Reciever_Email                   \n",
    "    newMessage.set_content('Imge of the Intruder is Attached!!') \n",
    "\n",
    "    with open(img, 'rb') as f:\n",
    "        image_data = f.read()\n",
    "        image_type = imghdr.what(f.name)\n",
    "        image_name = f.name\n",
    "\n",
    "    newMessage.add_attachment(image_data, maintype='image', subtype=image_type, filename=image_name)\n",
    "\n",
    "    with smtplib.SMTP_SSL('smtp.gmail.com', 465) as smtp:\n",
    "    \n",
    "        smtp.login(Sender_Email, Password)              \n",
    "        smtp.send_message(newMessage)"
   ]
  },
  {
   "cell_type": "code",
   "execution_count": 5,
   "metadata": {},
   "outputs": [],
   "source": [
    "#Functions capable of sending a WhatsApp message when called \n",
    "def get_time():\n",
    "    import time\n",
    "    t = time.localtime()\n",
    "    hour = int(time.strftime(\"%H\", t))\n",
    "    min = int(time.strftime(\"%M\", t)) +1 \n",
    "    return hour, min\n",
    "def send_whatsApp_msg(to , text):\n",
    "    import pywhatkit\n",
    "    pywhatkit.sendwhatmsg(to,text, get_time()[0], get_time()[1]) "
   ]
  },
  {
   "cell_type": "markdown",
   "metadata": {},
   "source": [
    "### Step 3 - Run Our Facial Recognition"
   ]
  },
  {
   "cell_type": "code",
   "execution_count": null,
   "metadata": {},
   "outputs": [
    {
     "name": "stdout",
     "output_type": "stream",
     "text": [
      "Provisioning the environment ...\n",
      "OS provisioned , wait for the OS to be configured.....\n",
      "OS configured !!! You can now access the webpage \n",
      "Ready to send the mail , Please provide the required credentials....\n"
     ]
    }
   ],
   "source": [
    "import cv2\n",
    "import numpy as np\n",
    "import os\n",
    "\n",
    "\n",
    "face_classifier = cv2.CascadeClassifier('haarcascade_frontalface_default.xml')\n",
    "\n",
    "#Determining the confidence of prediction by the ML model \n",
    "def confidence(results , image):\n",
    "    if results[1] < 500:\n",
    "            confidence = int( 100 * (1 - (results[1])/400) )\n",
    "    return confidence\n",
    "        \n",
    "\n",
    "def face_detector(img, size=0.5):\n",
    "    \n",
    "    # Convert image to grayscale\n",
    "    gray = cv2.cvtColor(img,cv2.COLOR_BGR2GRAY)\n",
    "    faces = face_classifier.detectMultiScale(gray, 1.3, 5)\n",
    "    if faces is ():\n",
    "        return img, []\n",
    "    \n",
    "    \n",
    "    for (x,y,w,h) in faces:\n",
    "        cv2.rectangle(img,(x,y),(x+w,y+h),(0,255,255),2)\n",
    "        roi = img[y:y+h, x:x+w]\n",
    "        roi = cv2.resize(roi, (200, 200))\n",
    "    return img, roi\n",
    "\n",
    "\n",
    "# Open Webcam\n",
    "cap = cv2.VideoCapture(1)\n",
    "\n",
    "while True:\n",
    "\n",
    "    ret, frame = cap.read()\n",
    "    \n",
    "    image, face = face_detector(frame)\n",
    "    \n",
    "    try:\n",
    "        face = cv2.cvtColor(face, cv2.COLOR_BGR2GRAY)\n",
    "\n",
    "        # Pass face to prediction model\n",
    "        # \"results\" comprises of a tuple containing the label and the confidence value\n",
    "        yash_results = Yashwanth_Model.predict(face)\n",
    "        amma_results = Amma_Model.predict(face)\n",
    "        # harry_model.predict(face)\n",
    "        \n",
    "        yash_conf = confidence(yash_results , image)\n",
    "        amma_conf = confidence(amma_results , image)\n",
    "        \n",
    "        if yash_conf > 85:\n",
    "            cv2.putText(image, \"Hey Yash\", (250, 450), cv2.FONT_HERSHEY_COMPLEX, 1, (0,255,0), 2)\n",
    "            display_string = str(yash_conf) + '% Confident it is User'\n",
    "            cv2.putText(image, display_string, (100, 120), cv2.FONT_HERSHEY_COMPLEX, 1, (255,120,150), 2)\n",
    "            cv2.imshow('Face Recognition', image)\n",
    "            try :\n",
    "                cv2.imwrite(\"Intruder.jpg\" , image)\n",
    "                import getpass\n",
    "                print(\"Ready to send the mail , Please provide the required credentials....\")\n",
    "                sender = input(\"Enter your mailID : \")\n",
    "                receiver = input(\"Enter the receiver's mailID : \")\n",
    "                password = getpass.getpass(\"Enter your password : \")\n",
    "                mail(sender , receiver , password , \"Intruder.jpg\")\n",
    "                print(\"Mail sent !!\")\n",
    "                send_whatsApp_msg(\"+917036970919\" , \"You have been detected\")\n",
    "                print(\"Message sent on Whatsapp !!\")\n",
    "                break\n",
    "                    \n",
    "            except :\n",
    "                print(\"Please check the availability of third party applications to your MailID\")\n",
    "            \n",
    "        elif amma_conf > 80 :\n",
    "            cv2.putText(image, \"Hey Mom\", (250, 450), cv2.FONT_HERSHEY_COMPLEX, 1, (0,255,0), 2)\n",
    "            display_string = str(amma_conf) + '% Confident it is User'\n",
    "            cv2.putText(image, display_string, (100, 120), cv2.FONT_HERSHEY_COMPLEX, 1, (255,120,150), 2)\n",
    "            cv2.imshow('Face Recognition', image )\n",
    "            try :\n",
    "                import os\n",
    "                print(\"Provisioning the environment ...\")\n",
    "                os.system(\"terraform init\")\n",
    "                os.system(\"terraform apply -auto-approve\")\n",
    "                print(\"OS provisioned , wait for the OS to be configured.....\")\n",
    "                os.system(\"pscp -pw Yashwanth@3 -batch ip root@192.168.0.13:/root/mlops/\")\n",
    "                os.system(\"plink root@192.168.0.13 -batch -pw Yashwanth@3 ansible-playbook /root/mlops/script.yml\")\n",
    "                print(\"OS configured !!! You can now access the webpage \")\n",
    "            except:\n",
    "                print(\"Check the code properly\")\n",
    "            \n",
    "         \n",
    "        else:\n",
    "            \n",
    "            cv2.putText(image, \"I dont know, how r u\", (250, 450), cv2.FONT_HERSHEY_COMPLEX, 1, (0,0,255), 2)\n",
    "            cv2.imshow('Face Recognition', image )\n",
    "\n",
    "    except:\n",
    "        cv2.putText(image, \"No Face Found\", (220, 120) , cv2.FONT_HERSHEY_COMPLEX, 1, (0,0,255), 2)\n",
    "        cv2.putText(image, \"looking for face\", (250, 450), cv2.FONT_HERSHEY_COMPLEX, 1, (0,0,255), 2)\n",
    "        cv2.imshow('Face Recognition', image )\n",
    "        pass\n",
    "        \n",
    "    if cv2.waitKey(1) == 13: #13 is the Enter Key\n",
    "        break\n",
    "        \n",
    "cap.release()\n",
    "cv2.destroyAllWindows()     "
   ]
  },
  {
   "cell_type": "code",
   "execution_count": null,
   "metadata": {},
   "outputs": [],
   "source": []
  }
 ],
 "metadata": {
  "kernelspec": {
   "display_name": "Python 3",
   "language": "python",
   "name": "python3"
  },
  "language_info": {
   "codemirror_mode": {
    "name": "ipython",
    "version": 3
   },
   "file_extension": ".py",
   "mimetype": "text/x-python",
   "name": "python",
   "nbconvert_exporter": "python",
   "pygments_lexer": "ipython3",
   "version": "3.7.6"
  }
 },
 "nbformat": 4,
 "nbformat_minor": 1
}
